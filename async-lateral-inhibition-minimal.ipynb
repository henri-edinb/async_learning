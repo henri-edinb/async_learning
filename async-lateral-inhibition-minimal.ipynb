{
 "cells": [
  {
   "cell_type": "markdown",
   "metadata": {},
   "source": [
    "In this notebook you can run all three models for the crossbar dataset. The models are:\n",
    "  - Discrete (Run dynamics and update at the equilibrium point)\n",
    "  - Continuous (Run dynamics and update at every time step)\n",
    "  - Asynchronous (Run dynamics and update at every time step, but only update neurons that satisfy the async constraint)\n",
    "\n",
    "You can set the following variables in each simulation:\n",
    "  - N_E - number of neurons\n",
    "  - N_X - sqrt of input frame size\n",
    "  - dt - learning rate\n",
    "  - T_max - simulation time\n",
    "\n",
    "The last block of the notebook plots the receptive fields of the neurons and if it shows bars, then the model has successfully learned a factiorization of the input data.\n",
    "  "
   ]
  },
  {
   "cell_type": "code",
   "execution_count": 2,
   "metadata": {},
   "outputs": [],
   "source": [
    "import jax.numpy as np\n",
    "from jax import random\n",
    "import numpy as onp\n",
    "import matplotlib.pyplot as plt"
   ]
  },
  {
   "cell_type": "code",
   "execution_count": 16,
   "metadata": {},
   "outputs": [],
   "source": [
    "def key():\n",
    "    seed = onp.random.randint(0, 1000000)\n",
    "    return random.PRNGKey(seed)\n",
    "\n",
    "def stripes_bars(N_X):\n",
    "    X = np.zeros((N_X, N_X))\n",
    "    i = random.randint(key(), (2,), 0, N_X)\n",
    "    X = X.at[i[0], :].set(1)\n",
    "    X = X.at[:, i[1]].set(1)\n",
    "    return X"
   ]
  },
  {
   "cell_type": "code",
   "execution_count": 20,
   "metadata": {},
   "outputs": [],
   "source": [
    "#discrete learning\n",
    "\n",
    "#set params\n",
    "N_E = 100 #number of neurons\n",
    "N_X = 5 #change the input frame size\n",
    "dt = 0.01 #learning rate\n",
    "T_max = 1000000 # simulation time\n",
    "\n",
    "\n",
    "#initialize the network\n",
    "W = random.exponential(key(), (N_E, N_X * N_X)) / np.sqrt(N_E)\n",
    "M = random.exponential(key(), (N_E, N_E)) / np.sqrt(N_E)\n",
    "y = random.normal(key(), (N_E,))\n",
    "y_r = np.maximum(y, 0)\n",
    "X = stripes_bars(N_X)\n",
    "yy = []\n",
    "\n",
    "\n",
    "for t in range(T_max):\n",
    "    #compute dynamics\n",
    "    y = y + dt * (np.dot(W, X.flatten()) - np.dot(M, y_r))\n",
    "    y_r = np.maximum(y, 0)\n",
    "    yy.append(y_r[:100])\n",
    "\n",
    "    #update weights at the stable state\n",
    "    if t % 500 == 0:\n",
    "        W = W + dt * (np.outer(y_r, X.flatten()) - W)\n",
    "        M = M + dt * (np.outer(y_r, y_r) - M)\n",
    "        X = stripes_bars(N_X)\n"
   ]
  },
  {
   "cell_type": "code",
   "execution_count": null,
   "metadata": {},
   "outputs": [],
   "source": [
    "#continuous learning\n",
    "\n",
    "#set params\n",
    "N_E = 100 #number of neurons\n",
    "N_X = 5 #change the input frame size\n",
    "dt = 0.001 #learning rate\n",
    "T_max = 1000000 # simulation time\n",
    "\n",
    "\n",
    "#initialize the network\n",
    "W = random.exponential(key(), (N_E, N_X * N_X)) / np.sqrt(N_E)\n",
    "M = random.exponential(key(), (N_E, N_E)) / np.sqrt(N_E)\n",
    "y = random.normal(key(), (N_E,))\n",
    "y_r = np.maximum(y, 0)\n",
    "X = stripes_bars(N_X)\n",
    "yy = []\n",
    "\n",
    "for t in range(T_max):\n",
    "    #compute dynamics\n",
    "    y = y + dt * (np.dot(W, X.flatten()) - np.dot(M, y_r))\n",
    "    y_r = np.maximum(y, 0)\n",
    "    yy.append(y_r[:100])\n",
    "\n",
    "    #update weights at the stable state\n",
    "    W = W + dt * (np.outer(y_r, X.flatten()) - W)\n",
    "    M = M + dt * (np.outer(y_r, y_r) - M)\n",
    "    X = stripes_bars(N_X)"
   ]
  },
  {
   "cell_type": "code",
   "execution_count": null,
   "metadata": {},
   "outputs": [
    {
     "name": "stdout",
     "output_type": "stream",
     "text": [
      "***************************************************************************************************************************************************************************************************************************************************************************************************"
     ]
    },
    {
     "ename": "KeyboardInterrupt",
     "evalue": "",
     "output_type": "error",
     "traceback": [
      "\u001b[0;31m---------------------------------------------------------------------------\u001b[0m",
      "\u001b[0;31mKeyboardInterrupt\u001b[0m                         Traceback (most recent call last)",
      "Cell \u001b[0;32mIn[9], line 25\u001b[0m\n\u001b[1;32m     22\u001b[0m num_spikes_y \u001b[38;5;241m+\u001b[39m\u001b[38;5;241m=\u001b[39m bursting_y\n\u001b[1;32m     24\u001b[0m \u001b[38;5;66;03m#bursting neurons can only burst every so often...\u001b[39;00m\n\u001b[0;32m---> 25\u001b[0m y_bursting_potential \u001b[38;5;241m=\u001b[39m \u001b[43my_bursting_potential\u001b[49m\u001b[38;5;241;43m.\u001b[39;49m\u001b[43mat\u001b[49m\u001b[43m[\u001b[49m\u001b[43mbursting_y\u001b[49m\u001b[43m]\u001b[49m\u001b[38;5;241;43m.\u001b[39;49m\u001b[43mset\u001b[49m\u001b[43m(\u001b[49m\u001b[38;5;241;43m0.0\u001b[39;49m\u001b[43m)\u001b[49m\n\u001b[1;32m     26\u001b[0m y_bursting_potential \u001b[38;5;241m+\u001b[39m\u001b[38;5;241m=\u001b[39m \u001b[38;5;241m0.01\u001b[39m\n\u001b[1;32m     27\u001b[0m y_bursting_potential \u001b[38;5;241m=\u001b[39m np\u001b[38;5;241m.\u001b[39mminimum(y_bursting_potential, np\u001b[38;5;241m.\u001b[39mones(N_E))\n",
      "File \u001b[0;32m~/miniconda3/envs/networks/lib/python3.11/site-packages/jax/_src/numpy/array_methods.py:497\u001b[0m, in \u001b[0;36m_IndexUpdateRef.set\u001b[0;34m(self, values, indices_are_sorted, unique_indices, mode)\u001b[0m\n\u001b[1;32m    488\u001b[0m \u001b[38;5;28;01mdef\u001b[39;00m \u001b[38;5;21mset\u001b[39m(\u001b[38;5;28mself\u001b[39m, values, \u001b[38;5;241m*\u001b[39m, indices_are_sorted\u001b[38;5;241m=\u001b[39m\u001b[38;5;28;01mFalse\u001b[39;00m, unique_indices\u001b[38;5;241m=\u001b[39m\u001b[38;5;28;01mFalse\u001b[39;00m,\n\u001b[1;32m    489\u001b[0m         mode\u001b[38;5;241m=\u001b[39m\u001b[38;5;28;01mNone\u001b[39;00m):\n\u001b[1;32m    490\u001b[0m \u001b[38;5;250m  \u001b[39m\u001b[38;5;124;03m\"\"\"Pure equivalent of ``x[idx] = y``.\u001b[39;00m\n\u001b[1;32m    491\u001b[0m \n\u001b[1;32m    492\u001b[0m \u001b[38;5;124;03m  Returns the value of ``x`` that would result from the NumPy-style\u001b[39;00m\n\u001b[0;32m   (...)\u001b[0m\n\u001b[1;32m    495\u001b[0m \u001b[38;5;124;03m  See :mod:`jax.ops` for details.\u001b[39;00m\n\u001b[1;32m    496\u001b[0m \u001b[38;5;124;03m  \"\"\"\u001b[39;00m\n\u001b[0;32m--> 497\u001b[0m   \u001b[38;5;28;01mreturn\u001b[39;00m \u001b[43mscatter\u001b[49m\u001b[38;5;241;43m.\u001b[39;49m\u001b[43m_scatter_update\u001b[49m\u001b[43m(\u001b[49m\u001b[38;5;28;43mself\u001b[39;49m\u001b[38;5;241;43m.\u001b[39;49m\u001b[43marray\u001b[49m\u001b[43m,\u001b[49m\u001b[43m \u001b[49m\u001b[38;5;28;43mself\u001b[39;49m\u001b[38;5;241;43m.\u001b[39;49m\u001b[43mindex\u001b[49m\u001b[43m,\u001b[49m\u001b[43m \u001b[49m\u001b[43mvalues\u001b[49m\u001b[43m,\u001b[49m\u001b[43m \u001b[49m\u001b[43mlax\u001b[49m\u001b[38;5;241;43m.\u001b[39;49m\u001b[43mscatter\u001b[49m\u001b[43m,\u001b[49m\n\u001b[1;32m    498\u001b[0m \u001b[43m                                 \u001b[49m\u001b[43mindices_are_sorted\u001b[49m\u001b[38;5;241;43m=\u001b[39;49m\u001b[43mindices_are_sorted\u001b[49m\u001b[43m,\u001b[49m\n\u001b[1;32m    499\u001b[0m \u001b[43m                                 \u001b[49m\u001b[43munique_indices\u001b[49m\u001b[38;5;241;43m=\u001b[39;49m\u001b[43munique_indices\u001b[49m\u001b[43m,\u001b[49m\u001b[43m \u001b[49m\u001b[43mmode\u001b[49m\u001b[38;5;241;43m=\u001b[39;49m\u001b[43mmode\u001b[49m\u001b[43m)\u001b[49m\n",
      "File \u001b[0;32m~/miniconda3/envs/networks/lib/python3.11/site-packages/jax/_src/ops/scatter.py:80\u001b[0m, in \u001b[0;36m_scatter_update\u001b[0;34m(x, idx, y, scatter_op, indices_are_sorted, unique_indices, mode, normalize_indices)\u001b[0m\n\u001b[1;32m     77\u001b[0m \u001b[38;5;66;03m# XLA gathers and scatters are very similar in structure; the scatter logic\u001b[39;00m\n\u001b[1;32m     78\u001b[0m \u001b[38;5;66;03m# is more or less a transpose of the gather equivalent.\u001b[39;00m\n\u001b[1;32m     79\u001b[0m treedef, static_idx, dynamic_idx \u001b[38;5;241m=\u001b[39m jnp\u001b[38;5;241m.\u001b[39m_split_index_for_jit(idx, x\u001b[38;5;241m.\u001b[39mshape)\n\u001b[0;32m---> 80\u001b[0m \u001b[38;5;28;01mreturn\u001b[39;00m \u001b[43m_scatter_impl\u001b[49m\u001b[43m(\u001b[49m\u001b[43mx\u001b[49m\u001b[43m,\u001b[49m\u001b[43m \u001b[49m\u001b[43my\u001b[49m\u001b[43m,\u001b[49m\u001b[43m \u001b[49m\u001b[43mscatter_op\u001b[49m\u001b[43m,\u001b[49m\u001b[43m \u001b[49m\u001b[43mtreedef\u001b[49m\u001b[43m,\u001b[49m\u001b[43m \u001b[49m\u001b[43mstatic_idx\u001b[49m\u001b[43m,\u001b[49m\u001b[43m \u001b[49m\u001b[43mdynamic_idx\u001b[49m\u001b[43m,\u001b[49m\n\u001b[1;32m     81\u001b[0m \u001b[43m                     \u001b[49m\u001b[43mindices_are_sorted\u001b[49m\u001b[43m,\u001b[49m\u001b[43m \u001b[49m\u001b[43munique_indices\u001b[49m\u001b[43m,\u001b[49m\u001b[43m \u001b[49m\u001b[43mmode\u001b[49m\u001b[43m,\u001b[49m\n\u001b[1;32m     82\u001b[0m \u001b[43m                     \u001b[49m\u001b[43mnormalize_indices\u001b[49m\u001b[43m)\u001b[49m\n",
      "File \u001b[0;32m~/miniconda3/envs/networks/lib/python3.11/site-packages/jax/_src/ops/scatter.py:104\u001b[0m, in \u001b[0;36m_scatter_impl\u001b[0;34m(x, y, scatter_op, treedef, static_idx, dynamic_idx, indices_are_sorted, unique_indices, mode, normalize_indices)\u001b[0m\n\u001b[1;32m     96\u001b[0m   warnings\u001b[38;5;241m.\u001b[39mwarn(\n\u001b[1;32m     97\u001b[0m     \u001b[38;5;124m\"\u001b[39m\u001b[38;5;124mscatter inputs have incompatible types: cannot safely cast value \u001b[39m\u001b[38;5;124m\"\u001b[39m\n\u001b[1;32m     98\u001b[0m     \u001b[38;5;124mf\u001b[39m\u001b[38;5;124m\"\u001b[39m\u001b[38;5;124mfrom dtype=\u001b[39m\u001b[38;5;132;01m{\u001b[39;00mlax\u001b[38;5;241m.\u001b[39mdtype(y)\u001b[38;5;132;01m}\u001b[39;00m\u001b[38;5;124m to dtype=\u001b[39m\u001b[38;5;132;01m{\u001b[39;00mlax\u001b[38;5;241m.\u001b[39mdtype(x)\u001b[38;5;132;01m}\u001b[39;00m\u001b[38;5;124m with \u001b[39m\u001b[38;5;124m\"\u001b[39m\n\u001b[1;32m     99\u001b[0m     \u001b[38;5;124mf\u001b[39m\u001b[38;5;124m\"\u001b[39m\u001b[38;5;124mjax_numpy_dtype_promotion=\u001b[39m\u001b[38;5;132;01m{\u001b[39;00mconfig\u001b[38;5;241m.\u001b[39mnumpy_dtype_promotion\u001b[38;5;241m.\u001b[39mvalue\u001b[38;5;132;01m!r}\u001b[39;00m\u001b[38;5;124m. \u001b[39m\u001b[38;5;124m\"\u001b[39m\n\u001b[1;32m    100\u001b[0m     \u001b[38;5;124m\"\u001b[39m\u001b[38;5;124mIn future JAX releases this will result in an error.\u001b[39m\u001b[38;5;124m\"\u001b[39m,\n\u001b[1;32m    101\u001b[0m     \u001b[38;5;167;01mFutureWarning\u001b[39;00m)\n\u001b[1;32m    103\u001b[0m idx \u001b[38;5;241m=\u001b[39m jnp\u001b[38;5;241m.\u001b[39m_merge_static_and_dynamic_indices(treedef, static_idx, dynamic_idx)\n\u001b[0;32m--> 104\u001b[0m indexer \u001b[38;5;241m=\u001b[39m \u001b[43mjnp\u001b[49m\u001b[38;5;241;43m.\u001b[39;49m\u001b[43m_index_to_gather\u001b[49m\u001b[43m(\u001b[49m\u001b[43mjnp\u001b[49m\u001b[38;5;241;43m.\u001b[39;49m\u001b[43mshape\u001b[49m\u001b[43m(\u001b[49m\u001b[43mx\u001b[49m\u001b[43m)\u001b[49m\u001b[43m,\u001b[49m\u001b[43m \u001b[49m\u001b[43midx\u001b[49m\u001b[43m,\u001b[49m\n\u001b[1;32m    105\u001b[0m \u001b[43m                               \u001b[49m\u001b[43mnormalize_indices\u001b[49m\u001b[38;5;241;43m=\u001b[39;49m\u001b[43mnormalize_indices\u001b[49m\u001b[43m)\u001b[49m\n\u001b[1;32m    107\u001b[0m \u001b[38;5;66;03m# Avoid calling scatter if the slice shape is empty, both as a fast path and\u001b[39;00m\n\u001b[1;32m    108\u001b[0m \u001b[38;5;66;03m# to handle cases like zeros(0)[array([], int32)].\u001b[39;00m\n\u001b[1;32m    109\u001b[0m \u001b[38;5;28;01mif\u001b[39;00m core\u001b[38;5;241m.\u001b[39mis_empty_shape(indexer\u001b[38;5;241m.\u001b[39mslice_shape):\n",
      "File \u001b[0;32m~/miniconda3/envs/networks/lib/python3.11/site-packages/jax/_src/numpy/lax_numpy.py:4630\u001b[0m, in \u001b[0;36m_index_to_gather\u001b[0;34m(x_shape, idx, normalize_indices)\u001b[0m\n\u001b[1;32m   4627\u001b[0m   \u001b[38;5;28;01mif\u001b[39;00m normalize_indices:\n\u001b[1;32m   4628\u001b[0m     advanced_pairs \u001b[38;5;241m=\u001b[39m ((_normalize_index(e, x_shape[j]), i, j)\n\u001b[1;32m   4629\u001b[0m                       \u001b[38;5;28;01mfor\u001b[39;00m e, i, j \u001b[38;5;129;01min\u001b[39;00m advanced_pairs)\n\u001b[0;32m-> 4630\u001b[0m   advanced_indexes, idx_advanced_axes, x_advanced_axes \u001b[38;5;241m=\u001b[39m \u001b[38;5;28;43mzip\u001b[39;49m\u001b[43m(\u001b[49m\u001b[38;5;241;43m*\u001b[39;49m\u001b[43madvanced_pairs\u001b[49m\u001b[43m)\u001b[49m\n\u001b[1;32m   4631\u001b[0m   advanced_axes_are_contiguous \u001b[38;5;241m=\u001b[39m \u001b[38;5;28mbool\u001b[39m(np\u001b[38;5;241m.\u001b[39mall(np\u001b[38;5;241m.\u001b[39mdiff(idx_advanced_axes) \u001b[38;5;241m==\u001b[39m \u001b[38;5;241m1\u001b[39m))\n\u001b[1;32m   4633\u001b[0m x_axis \u001b[38;5;241m=\u001b[39m \u001b[38;5;241m0\u001b[39m  \u001b[38;5;66;03m# Current axis in x.\u001b[39;00m\n",
      "File \u001b[0;32m~/miniconda3/envs/networks/lib/python3.11/site-packages/jax/_src/numpy/lax_numpy.py:4628\u001b[0m, in \u001b[0;36m<genexpr>\u001b[0;34m(.0)\u001b[0m\n\u001b[1;32m   4624\u001b[0m advanced_pairs \u001b[38;5;241m=\u001b[39m (\n\u001b[1;32m   4625\u001b[0m   (asarray(e), i, j) \u001b[38;5;28;01mfor\u001b[39;00m j, (i, e) \u001b[38;5;129;01min\u001b[39;00m \u001b[38;5;28menumerate\u001b[39m(idx_no_nones)\n\u001b[1;32m   4626\u001b[0m   \u001b[38;5;28;01mif\u001b[39;00m isscalar(e) \u001b[38;5;129;01mor\u001b[39;00m \u001b[38;5;28misinstance\u001b[39m(e, (Sequence, Array, np\u001b[38;5;241m.\u001b[39mndarray)))\n\u001b[1;32m   4627\u001b[0m \u001b[38;5;28;01mif\u001b[39;00m normalize_indices:\n\u001b[0;32m-> 4628\u001b[0m   advanced_pairs \u001b[38;5;241m=\u001b[39m ((\u001b[43m_normalize_index\u001b[49m\u001b[43m(\u001b[49m\u001b[43me\u001b[49m\u001b[43m,\u001b[49m\u001b[43m \u001b[49m\u001b[43mx_shape\u001b[49m\u001b[43m[\u001b[49m\u001b[43mj\u001b[49m\u001b[43m]\u001b[49m\u001b[43m)\u001b[49m, i, j)\n\u001b[1;32m   4629\u001b[0m                     \u001b[38;5;28;01mfor\u001b[39;00m e, i, j \u001b[38;5;129;01min\u001b[39;00m advanced_pairs)\n\u001b[1;32m   4630\u001b[0m advanced_indexes, idx_advanced_axes, x_advanced_axes \u001b[38;5;241m=\u001b[39m \u001b[38;5;28mzip\u001b[39m(\u001b[38;5;241m*\u001b[39madvanced_pairs)\n\u001b[1;32m   4631\u001b[0m advanced_axes_are_contiguous \u001b[38;5;241m=\u001b[39m \u001b[38;5;28mbool\u001b[39m(np\u001b[38;5;241m.\u001b[39mall(np\u001b[38;5;241m.\u001b[39mdiff(idx_advanced_axes) \u001b[38;5;241m==\u001b[39m \u001b[38;5;241m1\u001b[39m))\n",
      "File \u001b[0;32m~/miniconda3/envs/networks/lib/python3.11/site-packages/jax/_src/numpy/lax_numpy.py:4259\u001b[0m, in \u001b[0;36m_normalize_index\u001b[0;34m(index, axis_size)\u001b[0m\n\u001b[1;32m   4257\u001b[0m   \u001b[38;5;28;01mreturn\u001b[39;00m lax\u001b[38;5;241m.\u001b[39madd(index, axis_size_val) \u001b[38;5;28;01mif\u001b[39;00m index \u001b[38;5;241m<\u001b[39m \u001b[38;5;241m0\u001b[39m \u001b[38;5;28;01melse\u001b[39;00m index\n\u001b[1;32m   4258\u001b[0m \u001b[38;5;28;01melse\u001b[39;00m:\n\u001b[0;32m-> 4259\u001b[0m   \u001b[38;5;28;01mreturn\u001b[39;00m lax\u001b[38;5;241m.\u001b[39mselect(\u001b[43mindex\u001b[49m\u001b[43m \u001b[49m\u001b[38;5;241;43m<\u001b[39;49m\u001b[43m \u001b[49m\u001b[38;5;241;43m0\u001b[39;49m, lax\u001b[38;5;241m.\u001b[39madd(index, axis_size_val), index)\n",
      "File \u001b[0;32m~/miniconda3/envs/networks/lib/python3.11/site-packages/jax/_src/numpy/array_methods.py:271\u001b[0m, in \u001b[0;36m_defer_to_unrecognized_arg.<locals>.deferring_binary_op\u001b[0;34m(self, other)\u001b[0m\n\u001b[1;32m    269\u001b[0m args \u001b[38;5;241m=\u001b[39m (other, \u001b[38;5;28mself\u001b[39m) \u001b[38;5;28;01mif\u001b[39;00m swap \u001b[38;5;28;01melse\u001b[39;00m (\u001b[38;5;28mself\u001b[39m, other)\n\u001b[1;32m    270\u001b[0m \u001b[38;5;28;01mif\u001b[39;00m \u001b[38;5;28misinstance\u001b[39m(other, _accepted_binop_types):\n\u001b[0;32m--> 271\u001b[0m   \u001b[38;5;28;01mreturn\u001b[39;00m \u001b[43mbinary_op\u001b[49m\u001b[43m(\u001b[49m\u001b[38;5;241;43m*\u001b[39;49m\u001b[43margs\u001b[49m\u001b[43m)\u001b[49m\n\u001b[1;32m    272\u001b[0m \u001b[38;5;66;03m# Note: don't use isinstance here, because we don't want to raise for\u001b[39;00m\n\u001b[1;32m    273\u001b[0m \u001b[38;5;66;03m# subclasses, e.g. NamedTuple objects that may override operators.\u001b[39;00m\n\u001b[1;32m    274\u001b[0m \u001b[38;5;28;01mif\u001b[39;00m \u001b[38;5;28mtype\u001b[39m(other) \u001b[38;5;129;01min\u001b[39;00m _rejected_binop_types:\n",
      "\u001b[0;31mKeyboardInterrupt\u001b[0m: "
     ]
    }
   ],
   "source": [
    "#asynchrosnous learning\n",
    "\n",
    "#set params\n",
    "N_E = 100 #number of neurons\n",
    "N_X = 5 #change the input frame size\n",
    "dt = 0.01 #learning rate\n",
    "T_max = 1000000 # simulation time\n",
    "\n",
    "\n",
    "#initialize the network\n",
    "W = random.exponential(key(), (N_E, N_X * N_X)) / np.sqrt(N_E)\n",
    "M = random.exponential(key(), (N_E, N_E)) / np.sqrt(N_E)\n",
    "y = random.normal(key(), (N_E,))\n",
    "y_r = np.maximum(y, 0)\n",
    "X = stripes_bars(N_X)\n",
    "yy = []\n",
    "\n",
    "\n",
    "voltage_thresholds_y = np.ones(N_E)\n",
    "y_bursting_potential = np.ones(N_E)\n",
    "num_spikes_y = np.zeros(N_E)\n",
    "\n",
    "for t in range(T_max):\n",
    "    #compute dynamics\n",
    "    y = y + (dt * (np.dot(W, X.flatten()) - np.dot(M, y_r)))\n",
    "    y_r = np.maximum(y, 0)\n",
    "    yy.append(y_r[:100])\n",
    "\n",
    "\n",
    "    #compute bursting neurons\n",
    "    large_activity_y = (y_r > voltage_thresholds_y)\n",
    "    large_calcium_y = (y_bursting_potential >= np.ones(N_E))\n",
    "    bursting_y = np.logical_and(large_activity_y, large_calcium_y)\n",
    "    num_spikes_y += bursting_y\n",
    "\n",
    "    #bursting neurons can only burst every so often...\n",
    "    y_bursting_potential = y_bursting_potential.at[bursting_y].set(0.0)\n",
    "    y_bursting_potential += 0.01\n",
    "    y_bursting_potential = np.minimum(y_bursting_potential, np.ones(N_E))\n",
    "\n",
    "\n",
    "    #now we update the weights of the postsynaptic neurons that bursted\n",
    "    \n",
    "    #i to i matrix (M)\n",
    "    gradient_m = np.outer(y_r, y_r) - M # compute gradient\n",
    "    gradient_m_T_modulated = np.multiply(gradient_m.T, bursting_y) # modulate so only new postsynaptic neurons are affected\n",
    "    gradient_m = gradient_m_T_modulated.T\n",
    "    M += dt * gradient_m # update weights\n",
    "    M = np.maximum(M, 0.0) # rectify so that weights are always non-negative\n",
    "        \n",
    "    #x to e matrix (W)\n",
    "    gradient_w = np.outer(y_r, X.flatten()) - W\n",
    "    gradient_w_T_modulated = np.multiply(gradient_w.T, bursting_y)\n",
    "    gradient_w = gradient_w_T_modulated.T\n",
    "    W += dt * gradient_w\n",
    "    W = np.maximum(W, 0.0)\n",
    "\n",
    "    #change the input every 100 steps\n",
    "    if t % 100 == 0:\n",
    "        X = stripes_bars(N_X)\n",
    "        print(\"*\", end=\"\")"
   ]
  },
  {
   "cell_type": "code",
   "execution_count": 21,
   "metadata": {},
   "outputs": [
    {
     "data": {
      "image/png": "[encoded data removed]",
      "text/plain": [
       "<Figure size 1600x400 with 100 Axes>"
      ]
     },
     "metadata": {},
     "output_type": "display_data"
    }
   ],
   "source": [
    "plt.figure(figsize=(16, 4))\n",
    "for i in range(N_E):\n",
    "    plt.subplot(5, 20, i + 1)\n",
    "    plt.imshow(W[i].reshape((N_X, N_X)), vmin=0, vmax=np.max(W))\n",
    "    #plt.imshow(W_EX[i].reshape((N_X, N_X)))\n",
    "    plt.xticks([])\n",
    "    plt.yticks([])"
   ]
  }
 ],
 "metadata": {
  "kernelspec": {
   "display_name": "networks",
   "language": "python",
   "name": "python3"
  },
  "language_info": {
   "codemirror_mode": {
    "name": "ipython",
    "version": 3
   },
   "file_extension": ".py",
   "mimetype": "text/x-python",
   "name": "python",
   "nbconvert_exporter": "python",
   "pygments_lexer": "ipython3",
   "version": "3.11.3"
  }
 },
 "nbformat": 4,
 "nbformat_minor": 2
}
